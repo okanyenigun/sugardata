{
 "cells": [
  {
   "cell_type": "markdown",
   "metadata": {},
   "source": [
    "Sentiment Analysis"
   ]
  },
  {
   "cell_type": "code",
   "execution_count": 1,
   "metadata": {},
   "outputs": [],
   "source": [
    "import sugardata as su"
   ]
  },
  {
   "cell_type": "code",
   "execution_count": null,
   "metadata": {},
   "outputs": [],
   "source": [
    "data = su.generate_sentiments(\n",
    "    concept=\"NBA\", # required\n",
    "    n_samples=10, # required, default is 100\n",
    "    model_provider=\"openai\", # options: \"openai\", \"google\", \"together\", \"groq\", \"ollama\"\n",
    "    model_name=\"gpt-4o-mini\",\n",
    "    model_kwargs={\"temperature\": 0.9}, # optional, default is {}\n",
    "    batch_size=16, # default is 16\n",
    "    language=\"en\", # default is \"en\". For other languages, use the ISO 639-1 code (e.g., \"es\" for Spanish, \"fr\" for French, etc.)\n",
    "    n_labels=2, # 2: positive/negative, 3: positive/neutral/negative, 5: label0/label1/label2/label3/label4\n",
    "    output_format=\"pandas\", # options: \"pandas\", \"json\", \"dictionary\", \"hg\"\n",
    "\n",
    ")\n",
    "\n",
    "data.head()"
   ]
  },
  {
   "cell_type": "markdown",
   "metadata": {},
   "source": [
    "ABSA"
   ]
  },
  {
   "cell_type": "code",
   "execution_count": null,
   "metadata": {},
   "outputs": [],
   "source": [
    "data_absa = su.generate_aspect_sentiments(\n",
    "    concept=\"NBA\", # required\n",
    "    n_samples=10, # required, default is 100\n",
    "    model_provider=\"openai\", # options: \"openai\", \"google\", \"together\", \"groq\", \"ollama\"\n",
    "    model_name=\"gpt-4o-mini\",\n",
    "    model_kwargs={\"temperature\": 0.9}, # optional, default is {}\n",
    "    batch_size=16, # default is 16\n",
    "    language=\"en\", # default is \"en\". For other languages, use the ISO 639-1 code (e.g., \"es\" for Spanish, \"fr\" for French, etc.)\n",
    "    n_labels=2, # 2: positive/negative, 3: positive/neutral/negative, 5: label0/label1/label2/label3/label4\n",
    "    output_format=\"pandas\", # options: \"pandas\", \"json\", \"dictionary\", \"hg\"\n",
    "    aspects=None, # optional, default is None. If None, the model will generate aspects. If a list of aspects is provided, the model will use them.\n",
    "    n_generated_aspects=10, # optional, default is 10. The number of aspects to generate if aspects is None.\n",
    ")\n",
    "\n",
    "data_absa.head()"
   ]
  }
 ],
 "metadata": {
  "kernelspec": {
   "display_name": "venv",
   "language": "python",
   "name": "python3"
  },
  "language_info": {
   "codemirror_mode": {
    "name": "ipython",
    "version": 3
   },
   "file_extension": ".py",
   "mimetype": "text/x-python",
   "name": "python",
   "nbconvert_exporter": "python",
   "pygments_lexer": "ipython3",
   "version": "3.11.5"
  }
 },
 "nbformat": 4,
 "nbformat_minor": 2
}
