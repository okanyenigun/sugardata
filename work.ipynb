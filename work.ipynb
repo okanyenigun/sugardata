{
 "cells": [
  {
   "cell_type": "code",
   "execution_count": null,
   "id": "1d015030",
   "metadata": {},
   "outputs": [],
   "source": [
    "import os\n",
    "\n",
    "\n",
    "\n",
    "import sys\n",
    "\n",
    "sys.path.append('/Users/okanyenigun/Desktop/codes/reals/sugardata/')\n",
    "\n",
    "import sugardata as su"
   ]
  },
  {
   "cell_type": "code",
   "execution_count": null,
   "id": "0425e421",
   "metadata": {},
   "outputs": [],
   "source": [
    "examples = [\n",
    "    \"McDonald's hamburger is delicious.\",\n",
    "    \"I love the fries at McDonald's.\",\n",
    "    \"The service at McDonald's was terrible.\",\n",
    "    \"McDonald's breakfast menu is my favorite.\",\n",
    "    \"I had a bad experience at McDonald's last week.\"\n",
    "]\n",
    "\n",
    "result = su.generate_sentiment_data(\n",
    "    concept=\"McDonald's\",\n",
    "    language=\"en\",\n",
    "    n_aspect=1,\n",
    "    n_sentence=100,\n",
    "    batch_size=10,\n",
    "    export_type=\"dataframe\",\n",
    "    #examples=examples\n",
    ")"
   ]
  },
  {
   "cell_type": "code",
   "execution_count": null,
   "id": "ace25e4a",
   "metadata": {},
   "outputs": [],
   "source": [
    "result"
   ]
  },
  {
   "cell_type": "code",
   "execution_count": null,
   "id": "e2231cea",
   "metadata": {},
   "outputs": [],
   "source": [
    "examples = [\n",
    "    \"McDonald's hamburger is delicious.\",\n",
    "    \"I love the fries at McDonald's.\",\n",
    "    \"The service at McDonald's was terrible.\",\n",
    "    \"McDonald's breakfast menu is my favorite.\",\n",
    "    \"I had a bad experience at McDonald's last week.\"\n",
    "]\n",
    "\n",
    "result = su.generate_sentiment_data(\n",
    "    concept=\"McDonald's\",\n",
    "    language=\"en\",\n",
    "    n_aspect=1,\n",
    "    n_sentence=100,\n",
    "    batch_size=10,\n",
    "    export_type=\"dataframe\",\n",
    "    examples=examples\n",
    ")"
   ]
  },
  {
   "cell_type": "code",
   "execution_count": null,
   "id": "a3eacaaa",
   "metadata": {},
   "outputs": [],
   "source": [
    "result = await su.agenerate_sentiment_data(\n",
    "    concept=\"McDonald's\",\n",
    "    language=\"en\",\n",
    "    n_aspect=1,\n",
    "    n_sentence=100,\n",
    "    batch_size=10,\n",
    "    export_type=\"dataframe\",\n",
    ")\n"
   ]
  },
  {
   "cell_type": "code",
   "execution_count": null,
   "id": "3a47dd9a",
   "metadata": {},
   "outputs": [],
   "source": [
    "result"
   ]
  },
  {
   "cell_type": "code",
   "execution_count": null,
   "id": "3256a2f8",
   "metadata": {},
   "outputs": [],
   "source": [
    "import time\n",
    "import pandas as pd\n",
    "\n",
    "results_sync = []\n",
    "start = time.time()\n",
    "for _ in range(3):\n",
    "    result = su.generate_sentiment_data(\n",
    "        concept=\"McDonald's\",\n",
    "        language=\"en\",\n",
    "        n_aspect=1,\n",
    "        n_sentence=100,\n",
    "        batch_size=10,\n",
    "        export_type=\"dataframe\",\n",
    "    )\n",
    "    # assuming result is a DataFrame; adjust if not\n",
    "    results_sync.append(result)\n",
    "elapsed_sync = time.time() - start\n",
    "\n",
    "# Combine (concatenate) the DataFrames\n",
    "combined_sync = pd.concat(results_sync, ignore_index=True)\n",
    "\n",
    "print(f\"Sync total time: {elapsed_sync:.2f} seconds\")\n",
    "print(f\"Sync combined shape: {combined_sync.shape}\")\n"
   ]
  },
  {
   "cell_type": "code",
   "execution_count": null,
   "id": "a807b703",
   "metadata": {},
   "outputs": [],
   "source": [
    "import time\n",
    "import pandas as pd\n",
    "\n",
    "results_async = []\n",
    "\n",
    "start = time.time()\n",
    "for _ in range(3):\n",
    "    result = await su.agenerate_sentiment_data(\n",
    "        concept=\"McDonald's\",\n",
    "        language=\"en\",\n",
    "        n_aspect=1,\n",
    "        n_sentence=100,\n",
    "        batch_size=10,\n",
    "        export_type=\"dataframe\",\n",
    "    )\n",
    "    results_async.append(result)\n",
    "elapsed_async = time.time() - start\n",
    "\n",
    "combined_async = pd.concat(results_async, ignore_index=True)\n",
    "\n",
    "print(f\"Async total time: {elapsed_async:.2f} seconds\")\n",
    "print(f\"Async combined shape: {combined_async.shape}\")\n"
   ]
  },
  {
   "cell_type": "code",
   "execution_count": null,
   "id": "1c516d86",
   "metadata": {},
   "outputs": [],
   "source": [
    "import asyncio\n",
    "import time\n",
    "import pandas as pd\n",
    "\n",
    "async def run_async_calls():\n",
    "    tasks = [\n",
    "        su.agenerate_sentiment_data(\n",
    "            concept=\"McDonald's\",\n",
    "            language=\"en\",\n",
    "            n_aspect=1,\n",
    "            n_sentence=100,\n",
    "            batch_size=10,\n",
    "            export_type=\"dataframe\",\n",
    "        )\n",
    "        for _ in range(3)\n",
    "    ]\n",
    "    return await asyncio.gather(*tasks)\n",
    "\n",
    "start = time.time()\n",
    "results_async_parallel = await run_async_calls()\n",
    "elapsed_async_parallel = time.time() - start\n",
    "\n",
    "combined_async_parallel = pd.concat(results_async_parallel, ignore_index=True)\n",
    "\n",
    "print(f\"Async-parallel total time: {elapsed_async_parallel:.2f} seconds\")\n",
    "print(f\"Async-parallel combined shape: {combined_async_parallel.shape}\")\n"
   ]
  },
  {
   "cell_type": "code",
   "execution_count": null,
   "id": "ef18c4fa",
   "metadata": {},
   "outputs": [],
   "source": []
  }
 ],
 "metadata": {
  "kernelspec": {
   "display_name": "venv",
   "language": "python",
   "name": "python3"
  },
  "language_info": {
   "codemirror_mode": {
    "name": "ipython",
    "version": 3
   },
   "file_extension": ".py",
   "mimetype": "text/x-python",
   "name": "python",
   "nbconvert_exporter": "python",
   "pygments_lexer": "ipython3",
   "version": "3.11.5"
  }
 },
 "nbformat": 4,
 "nbformat_minor": 5
}
