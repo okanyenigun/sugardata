{
 "cells": [
  {
   "cell_type": "code",
   "execution_count": null,
   "id": "9b1db6c2",
   "metadata": {},
   "outputs": [],
   "source": [
    "import sys\n",
    "sys.path.append('/home/yeniguno/projects/sugardata')\n",
    "\n",
    "import sugardata as su\n",
    "\n",
    "import os\n"
   ]
  },
  {
   "cell_type": "code",
   "execution_count": null,
   "id": "a62d6855",
   "metadata": {},
   "outputs": [],
   "source": [
    "examples = [\n",
    "    \"Natural Gas: Long Set Up Ahead But Timing Is Important. Read more: https://t.co/eruGN42l53 #stockmarket #stocks #markets\",\n",
    "    \"CITRON SAYS IT'S LONG ON LUCKIN COFFEE\",\n",
    "    \"Macy's Q3 adj. EPS 7 cents; FactSet consensus 6 cents\",\n",
    "    \"Barbados suffers second day of major power outages\",\n",
    "    \"$NUGT $JNUG - Exposure of two Direxion 3X gold...\t1\thttps://t.co/2b1k3d6c4a\",\n",
    "    \"The Fed is not going to raise rates in 2024, says former Treasury Secretary Larry Summers\",\n",
    "    \"Apple Just Put the Swiss Watch Industry to Shame\"\n",
    "]"
   ]
  },
  {
   "cell_type": "code",
   "execution_count": null,
   "id": "2c224a21",
   "metadata": {},
   "outputs": [],
   "source": [
    "results = su.generate_sentiment_data(\n",
    "    language=\"en\",\n",
    "    examples=examples,\n",
    "    label_options=[\"Positive\", \"Negative\"],\n",
    "    batch_size=64,\n",
    ")\n",
    "\n",
    "print(f\"Number of generated examples: {len(results)}\")"
   ]
  },
  {
   "cell_type": "code",
   "execution_count": null,
   "id": "1c633fe8",
   "metadata": {},
   "outputs": [],
   "source": [
    "len(results)"
   ]
  },
  {
   "cell_type": "code",
   "execution_count": null,
   "id": "9f07cd6f",
   "metadata": {},
   "outputs": [],
   "source": [
    "results"
   ]
  },
  {
   "cell_type": "code",
   "execution_count": null,
   "id": "1a54b116",
   "metadata": {},
   "outputs": [],
   "source": [
    "from itertools import product\n",
    "\n",
    "label_options = [\"Negative\", \"Neutral\", \"Positive\"]\n",
    "aspects = [\"service\", \"quality\"]\n",
    "\n",
    "label_combinations = list(product(label_options, repeat=len(aspects)))\n",
    "\n",
    "\n",
    "print(label_combinations)\n",
    "# Output: [('Negative', 'Negative'), ('Neutral', 'Neutral'), ('Positive', 'Positive')]\n"
   ]
  },
  {
   "cell_type": "code",
   "execution_count": null,
   "id": "710f3704",
   "metadata": {},
   "outputs": [],
   "source": []
  }
 ],
 "metadata": {
  "kernelspec": {
   "display_name": "venv",
   "language": "python",
   "name": "python3"
  },
  "language_info": {
   "codemirror_mode": {
    "name": "ipython",
    "version": 3
   },
   "file_extension": ".py",
   "mimetype": "text/x-python",
   "name": "python",
   "nbconvert_exporter": "python",
   "pygments_lexer": "ipython3",
   "version": "3.12.3"
  }
 },
 "nbformat": 4,
 "nbformat_minor": 5
}
