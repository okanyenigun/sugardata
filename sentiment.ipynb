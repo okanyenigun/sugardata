{
 "cells": [
  {
   "cell_type": "code",
   "execution_count": null,
   "id": "b9bfce75",
   "metadata": {},
   "outputs": [],
   "source": [
    "import os\n",
    "\n",
    "\n",
    "import sys\n",
    "sys.path.append('/Users/okanyenigun/Desktop/codes/reals/sugardata/')\n",
    "\n",
    "import sugardata as su\n",
    "\n",
    "import time"
   ]
  },
  {
   "cell_type": "code",
   "execution_count": null,
   "id": "8f01266e",
   "metadata": {},
   "outputs": [],
   "source": [
    "examples = [\n",
    "    \"I love the new design of the product, it's fantastic!\",\n",
    "    \"The service was terrible, I will never use it again.\",\n",
    "    \"The food was okay, nothing special but not bad either.\",\n",
    "    \"Absolutely amazing experience, highly recommend!\",\n",
    "    \"I am disappointed with the quality, it did not meet my expectations.\",\n",
    "    \"The staff were friendly and helpful, great customer service.\",\n",
    "    \"I found the product to be overpriced for what it offers.\",\n",
    "    \"The movie was a masterpiece, I enjoyed every moment of it.\"\n",
    "]\n"
   ]
  },
  {
   "cell_type": "code",
   "execution_count": null,
   "id": "a0eb6b65",
   "metadata": {},
   "outputs": [],
   "source": [
    "\n",
    "results = su.augment_sentiment_data(\n",
    "    examples=examples,\n",
    "    language=\"en\",\n",
    ")\n",
    "\n",
    "print(f\"Length of results: {len(results)}\")\n",
    "print(f\"First result: {results[0]}\")\n",
    "print(f\"Second result: {results[1]}\")\n",
    "print(f\"Third result: {results[2]}\")\n",
    "print(f\"Forth result: {results[3]}\")\n",
    "print(f\"Last result: {results[-1]}\")"
   ]
  },
  {
   "cell_type": "code",
   "execution_count": null,
   "id": "a3c6e831",
   "metadata": {},
   "outputs": [],
   "source": [
    "result = await su.augment_sentiment_data_async(\n",
    "    examples=examples,\n",
    "    language=\"en\",\n",
    ")\n",
    "\n",
    "print(f\"Length of results: {len(results)}\")\n",
    "print(f\"First result: {results[0]}\")\n",
    "print(f\"Second result: {results[1]}\")\n",
    "print(f\"Third result: {results[2]}\")\n",
    "print(f\"Forth result: {results[3]}\")\n",
    "print(f\"Last result: {results[-1]}\")"
   ]
  },
  {
   "cell_type": "code",
   "execution_count": null,
   "id": "1b388848",
   "metadata": {},
   "outputs": [],
   "source": [
    "start = time.time()\n",
    "results = {}"
   ]
  },
  {
   "cell_type": "code",
   "execution_count": null,
   "id": "75aefbf5",
   "metadata": {},
   "outputs": [],
   "source": [
    "result = su.augment_sentiment_data(\n",
    "    examples=examples,\n",
    "    language=\"en\",\n",
    "    vendor=\"openai\",\n",
    "    model=\"gpt-4o-mini\"\n",
    ")\n",
    "results[\"openai\"] = result"
   ]
  },
  {
   "cell_type": "code",
   "execution_count": null,
   "id": "9ae2fb3c",
   "metadata": {},
   "outputs": [],
   "source": [
    "\n",
    "result = su.augment_sentiment_data(\n",
    "    examples=examples,\n",
    "    language=\"en\",\n",
    "    vendor=\"ollama\",\n",
    "    model=\"gemma3:4b\"\n",
    ")\n",
    "\n",
    "results[\"ollama\"] = result\n",
    "\n"
   ]
  },
  {
   "cell_type": "code",
   "execution_count": null,
   "id": "e0b38461",
   "metadata": {},
   "outputs": [],
   "source": [
    "result = su.augment_sentiment_data(\n",
    "    examples=examples,\n",
    "    language=\"en\",\n",
    "    vendor=\"gemini\",\n",
    "    model=\"gemini-1.5-flash\"\n",
    ")\n",
    "\n",
    "results[\"gemini\"] = result"
   ]
  },
  {
   "cell_type": "code",
   "execution_count": null,
   "id": "e3bde860",
   "metadata": {},
   "outputs": [],
   "source": [
    "\n",
    "result = su.augment_sentiment_data(\n",
    "    examples=examples,\n",
    "    language=\"en\",\n",
    "    vendor=\"groq\",\n",
    "    model=\"llama-3.3-70b-versatile\"\n",
    ")\n",
    "\n",
    "results[\"groq\"] = result\n",
    "\n"
   ]
  },
  {
   "cell_type": "code",
   "execution_count": null,
   "id": "f4c45827",
   "metadata": {},
   "outputs": [],
   "source": [
    "\n",
    "result = su.augment_sentiment_data(\n",
    "    examples=examples,\n",
    "    language=\"en\",\n",
    "    vendor=\"together\",\n",
    "    model=\"qwen-qwen3-32b-fp8-serverless\"\n",
    ")\n",
    "\n",
    "results[\"together\"] = result"
   ]
  },
  {
   "cell_type": "code",
   "execution_count": null,
   "id": "50e8c91b",
   "metadata": {},
   "outputs": [],
   "source": []
  }
 ],
 "metadata": {
  "kernelspec": {
   "display_name": "venv",
   "language": "python",
   "name": "python3"
  },
  "language_info": {
   "codemirror_mode": {
    "name": "ipython",
    "version": 3
   },
   "file_extension": ".py",
   "mimetype": "text/x-python",
   "name": "python",
   "nbconvert_exporter": "python",
   "pygments_lexer": "ipython3",
   "version": "3.11.5"
  }
 },
 "nbformat": 4,
 "nbformat_minor": 5
}
